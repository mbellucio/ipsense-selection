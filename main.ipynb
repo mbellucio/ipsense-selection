{
 "cells": [
  {
   "cell_type": "markdown",
   "metadata": {},
   "source": [
    "# IPSENSE internship project"
   ]
  },
  {
   "cell_type": "markdown",
   "metadata": {},
   "source": [
    "This project was made by **Matheus Bellucio**. contact me on this email: matheusbellucio@gmail.com"
   ]
  },
  {
   "cell_type": "markdown",
   "metadata": {},
   "source": [
    "<hr>\n",
    "\n"
   ]
  },
  {
   "cell_type": "code",
   "execution_count": 107,
   "metadata": {},
   "outputs": [
    {
     "name": "stdout",
     "output_type": "stream",
     "text": [
      "Requirement already satisfied: numpy==1.26.4 in .\\env\\lib\\site-packages (from -r requirements.txt (line 1)) (1.26.4)Note: you may need to restart the kernel to use updated packages.\n",
      "\n",
      "Requirement already satisfied: pandas in .\\env\\lib\\site-packages (from -r requirements.txt (line 2)) (1.5.3)\n",
      "Requirement already satisfied: plotly in .\\env\\lib\\site-packages (from -r requirements.txt (line 3)) (5.24.1)\n",
      "Requirement already satisfied: nbformat in .\\env\\lib\\site-packages (from -r requirements.txt (line 4)) (5.10.4)\n",
      "Requirement already satisfied: requests in .\\env\\lib\\site-packages (from -r requirements.txt (line 5)) (2.32.3)\n",
      "Requirement already satisfied: matplotlib in .\\env\\lib\\site-packages (from -r requirements.txt (line 6)) (3.9.2)\n",
      "Requirement already satisfied: pandasai in .\\env\\lib\\site-packages (from -r requirements.txt (line 7)) (2.2.14)\n",
      "Requirement already satisfied: pyyaml in .\\env\\lib\\site-packages (from -r requirements.txt (line 8)) (6.0.2)\n",
      "Requirement already satisfied: python-dateutil>=2.8.1 in .\\env\\lib\\site-packages (from pandas->-r requirements.txt (line 2)) (2.9.0.post0)\n",
      "Requirement already satisfied: pytz>=2020.1 in .\\env\\lib\\site-packages (from pandas->-r requirements.txt (line 2)) (2024.2)\n",
      "Requirement already satisfied: tenacity>=6.2.0 in .\\env\\lib\\site-packages (from plotly->-r requirements.txt (line 3)) (9.0.0)\n",
      "Requirement already satisfied: packaging in .\\env\\lib\\site-packages (from plotly->-r requirements.txt (line 3)) (24.1)\n",
      "Requirement already satisfied: fastjsonschema>=2.15 in .\\env\\lib\\site-packages (from nbformat->-r requirements.txt (line 4)) (2.20.0)\n",
      "Requirement already satisfied: jsonschema>=2.6 in .\\env\\lib\\site-packages (from nbformat->-r requirements.txt (line 4)) (4.23.0)\n",
      "Requirement already satisfied: jupyter-core!=5.0.*,>=4.12 in .\\env\\lib\\site-packages (from nbformat->-r requirements.txt (line 4)) (5.7.2)\n",
      "Requirement already satisfied: traitlets>=5.1 in .\\env\\lib\\site-packages (from nbformat->-r requirements.txt (line 4)) (5.14.3)\n",
      "Requirement already satisfied: charset-normalizer<4,>=2 in .\\env\\lib\\site-packages (from requests->-r requirements.txt (line 5)) (3.3.2)\n",
      "Requirement already satisfied: idna<4,>=2.5 in .\\env\\lib\\site-packages (from requests->-r requirements.txt (line 5)) (3.8)\n",
      "Requirement already satisfied: urllib3<3,>=1.21.1 in .\\env\\lib\\site-packages (from requests->-r requirements.txt (line 5)) (2.2.3)\n",
      "Requirement already satisfied: certifi>=2017.4.17 in .\\env\\lib\\site-packages (from requests->-r requirements.txt (line 5)) (2024.8.30)\n",
      "Requirement already satisfied: contourpy>=1.0.1 in .\\env\\lib\\site-packages (from matplotlib->-r requirements.txt (line 6)) (1.3.0)\n",
      "Requirement already satisfied: cycler>=0.10 in .\\env\\lib\\site-packages (from matplotlib->-r requirements.txt (line 6)) (0.12.1)\n",
      "Requirement already satisfied: fonttools>=4.22.0 in .\\env\\lib\\site-packages (from matplotlib->-r requirements.txt (line 6)) (4.53.1)\n",
      "Requirement already satisfied: kiwisolver>=1.3.1 in .\\env\\lib\\site-packages (from matplotlib->-r requirements.txt (line 6)) (1.4.7)\n",
      "Requirement already satisfied: pillow>=8 in .\\env\\lib\\site-packages (from matplotlib->-r requirements.txt (line 6)) (10.4.0)\n",
      "Requirement already satisfied: pyparsing>=2.3.1 in .\\env\\lib\\site-packages (from matplotlib->-r requirements.txt (line 6)) (3.1.4)\n",
      "Requirement already satisfied: astor<0.9.0,>=0.8.1 in .\\env\\lib\\site-packages (from pandasai->-r requirements.txt (line 7)) (0.8.1)\n",
      "Requirement already satisfied: duckdb<2.0.0,>=1.0.0 in .\\env\\lib\\site-packages (from pandasai->-r requirements.txt (line 7)) (1.1.0)\n",
      "Requirement already satisfied: faker<20.0.0,>=19.12.0 in .\\env\\lib\\site-packages (from pandasai->-r requirements.txt (line 7)) (19.13.0)\n",
      "Requirement already satisfied: jinja2<4.0.0,>=3.1.3 in .\\env\\lib\\site-packages (from pandasai->-r requirements.txt (line 7)) (3.1.4)\n",
      "Requirement already satisfied: openai<2 in .\\env\\lib\\site-packages (from pandasai->-r requirements.txt (line 7)) (1.45.0)\n",
      "Requirement already satisfied: pydantic<3,>=1 in .\\env\\lib\\site-packages (from pandasai->-r requirements.txt (line 7)) (2.9.1)\n",
      "Requirement already satisfied: python-dotenv<2.0.0,>=1.0.0 in .\\env\\lib\\site-packages (from pandasai->-r requirements.txt (line 7)) (1.0.1)\n",
      "Requirement already satisfied: scipy<2.0.0,>=1.9.0 in .\\env\\lib\\site-packages (from pandasai->-r requirements.txt (line 7)) (1.14.1)\n",
      "Requirement already satisfied: sqlalchemy<3,>=1.4 in .\\env\\lib\\site-packages (from pandasai->-r requirements.txt (line 7)) (2.0.34)\n",
      "Requirement already satisfied: sqlglot<26.0.0,>=25.0.3 in .\\env\\lib\\site-packages (from sqlglot[rs]<26.0.0,>=25.0.3->pandasai->-r requirements.txt (line 7)) (25.21.0)\n",
      "Requirement already satisfied: MarkupSafe>=2.0 in .\\env\\lib\\site-packages (from jinja2<4.0.0,>=3.1.3->pandasai->-r requirements.txt (line 7)) (2.1.5)\n",
      "Requirement already satisfied: attrs>=22.2.0 in .\\env\\lib\\site-packages (from jsonschema>=2.6->nbformat->-r requirements.txt (line 4)) (24.2.0)\n",
      "Requirement already satisfied: jsonschema-specifications>=2023.03.6 in .\\env\\lib\\site-packages (from jsonschema>=2.6->nbformat->-r requirements.txt (line 4)) (2023.12.1)\n",
      "Requirement already satisfied: referencing>=0.28.4 in .\\env\\lib\\site-packages (from jsonschema>=2.6->nbformat->-r requirements.txt (line 4)) (0.35.1)\n",
      "Requirement already satisfied: rpds-py>=0.7.1 in .\\env\\lib\\site-packages (from jsonschema>=2.6->nbformat->-r requirements.txt (line 4)) (0.20.0)\n",
      "Requirement already satisfied: platformdirs>=2.5 in .\\env\\lib\\site-packages (from jupyter-core!=5.0.*,>=4.12->nbformat->-r requirements.txt (line 4)) (4.3.2)\n",
      "Requirement already satisfied: pywin32>=300 in .\\env\\lib\\site-packages (from jupyter-core!=5.0.*,>=4.12->nbformat->-r requirements.txt (line 4)) (306)\n",
      "Requirement already satisfied: anyio<5,>=3.5.0 in .\\env\\lib\\site-packages (from openai<2->pandasai->-r requirements.txt (line 7)) (4.4.0)\n",
      "Requirement already satisfied: distro<2,>=1.7.0 in .\\env\\lib\\site-packages (from openai<2->pandasai->-r requirements.txt (line 7)) (1.9.0)\n",
      "Requirement already satisfied: httpx<1,>=0.23.0 in .\\env\\lib\\site-packages (from openai<2->pandasai->-r requirements.txt (line 7)) (0.27.2)\n",
      "Requirement already satisfied: jiter<1,>=0.4.0 in .\\env\\lib\\site-packages (from openai<2->pandasai->-r requirements.txt (line 7)) (0.5.0)\n",
      "Requirement already satisfied: sniffio in .\\env\\lib\\site-packages (from openai<2->pandasai->-r requirements.txt (line 7)) (1.3.1)\n",
      "Requirement already satisfied: tqdm>4 in .\\env\\lib\\site-packages (from openai<2->pandasai->-r requirements.txt (line 7)) (4.66.5)\n",
      "Requirement already satisfied: typing-extensions<5,>=4.11 in .\\env\\lib\\site-packages (from openai<2->pandasai->-r requirements.txt (line 7)) (4.12.2)\n",
      "Requirement already satisfied: annotated-types>=0.6.0 in .\\env\\lib\\site-packages (from pydantic<3,>=1->pandasai->-r requirements.txt (line 7)) (0.7.0)\n",
      "Requirement already satisfied: pydantic-core==2.23.3 in .\\env\\lib\\site-packages (from pydantic<3,>=1->pandasai->-r requirements.txt (line 7)) (2.23.3)\n",
      "Requirement already satisfied: six>=1.5 in .\\env\\lib\\site-packages (from python-dateutil>=2.8.1->pandas->-r requirements.txt (line 2)) (1.16.0)\n",
      "Requirement already satisfied: greenlet!=0.4.17 in .\\env\\lib\\site-packages (from sqlalchemy<3,>=1.4->pandasai->-r requirements.txt (line 7)) (3.1.0)\n",
      "Requirement already satisfied: sqlglotrs==0.2.12 in .\\env\\lib\\site-packages (from sqlglot[rs]<26.0.0,>=25.0.3->pandasai->-r requirements.txt (line 7)) (0.2.12)\n",
      "Requirement already satisfied: httpcore==1.* in .\\env\\lib\\site-packages (from httpx<1,>=0.23.0->openai<2->pandasai->-r requirements.txt (line 7)) (1.0.5)\n",
      "Requirement already satisfied: h11<0.15,>=0.13 in .\\env\\lib\\site-packages (from httpcore==1.*->httpx<1,>=0.23.0->openai<2->pandasai->-r requirements.txt (line 7)) (0.14.0)\n",
      "Requirement already satisfied: colorama in .\\env\\lib\\site-packages (from tqdm>4->openai<2->pandasai->-r requirements.txt (line 7)) (0.4.6)\n"
     ]
    },
    {
     "name": "stderr",
     "output_type": "stream",
     "text": [
      "\n",
      "[notice] A new release of pip is available: 24.0 -> 24.2\n",
      "[notice] To update, run: python.exe -m pip install --upgrade pip\n"
     ]
    }
   ],
   "source": [
    "pip install -r requirements.txt"
   ]
  },
  {
   "cell_type": "markdown",
   "metadata": {},
   "source": [
    "### Imports"
   ]
  },
  {
   "cell_type": "code",
   "execution_count": 108,
   "metadata": {},
   "outputs": [],
   "source": [
    "import pandas as pd\n",
    "import plotly.express as px\n",
    "import matplotlib.pyplot as plt\n",
    "from typing import Callable\n",
    "\n",
    "import requests\n",
    "import json"
   ]
  },
  {
   "cell_type": "markdown",
   "metadata": {},
   "source": [
    "<hr>\n",
    "\n",
    "## Project Gutenberg Analysis\n",
    "\n",
    "Project Gutenberg is an online library of free eBooks.\n",
    "\n",
    "On this analysis we are going to look for some interesting data revolving around this free innitiative, those being:\n",
    "- Books per author\n",
    "- Top 10 genres\n",
    "- Top 10 most downloaded books\n",
    "- Relation between author Birth Year and Downloads/Popularity\n",
    "- Most popular Authors"
   ]
  },
  {
   "cell_type": "markdown",
   "metadata": {},
   "source": [
    "<hr>"
   ]
  },
  {
   "cell_type": "markdown",
   "metadata": {},
   "source": [
    "### API endpoints"
   ]
  },
  {
   "cell_type": "code",
   "execution_count": 109,
   "metadata": {},
   "outputs": [],
   "source": [
    "HEADERS = {\n",
    "  'Content-Type': 'application/json',\n",
    "  'Accept': 'application/json'\n",
    "}"
   ]
  },
  {
   "cell_type": "code",
   "execution_count": 110,
   "metadata": {},
   "outputs": [],
   "source": [
    "BOOKS = 'https://gutendex.com/books/'"
   ]
  },
  {
   "cell_type": "code",
   "execution_count": 111,
   "metadata": {},
   "outputs": [],
   "source": [
    "NUM_PAGES = 156"
   ]
  },
  {
   "cell_type": "markdown",
   "metadata": {},
   "source": [
    "### API Calls"
   ]
  },
  {
   "cell_type": "code",
   "execution_count": 112,
   "metadata": {},
   "outputs": [],
   "source": [
    "def fetchJson(url: str, headers: dict) -> dict[str, any]:\n",
    "  try: \n",
    "    response = requests.get(url, headers=headers)\n",
    "    response.raise_for_status()\n",
    "    return response.json()\n",
    "  except requests.exceptions.RequestException as err: \n",
    "    raise err"
   ]
  },
  {
   "cell_type": "markdown",
   "metadata": {},
   "source": [
    "Function created to make the API call and return the JSON with the data"
   ]
  },
  {
   "cell_type": "markdown",
   "metadata": {},
   "source": [
    "### Dataframe creation and Data formatting "
   ]
  },
  {
   "cell_type": "code",
   "execution_count": 113,
   "metadata": {},
   "outputs": [],
   "source": [
    "def get_data(fetch_data: Callable, url: str, headers: dict, num_pages: int) -> pd.DataFrame:\n",
    "\n",
    "  data = []\n",
    "  first_page = fetch_data(url=url, headers=headers)\n",
    "  data.extend(first_page['results'])\n",
    "  page_link = first_page['next']\n",
    "\n",
    "  for i in range(1, num_pages):\n",
    "    page = fetch_data(url=page_link, headers=headers)\n",
    "    data.extend(page['results'])\n",
    "    page_link = page['next']\n",
    "\n",
    "  return pd.DataFrame(data)"
   ]
  },
  {
   "cell_type": "markdown",
   "metadata": {},
   "source": [
    "As the Gutendex API is paginated, this function aims to do the desired amount of calls base on the number of pages specified <br>\n",
    "and return the dataframe with the data of all pages fetched."
   ]
  },
  {
   "cell_type": "markdown",
   "metadata": {},
   "source": [
    "Due to the API being paginated, the wait time is too long. Therefore I will base this analysis on a 5000 books frame.\n",
    "\n",
    "To avoid waiting 8 minutes to all the data being fetched, simply comment the first line bellow and uncomment the second one."
   ]
  },
  {
   "cell_type": "code",
   "execution_count": 114,
   "metadata": {},
   "outputs": [],
   "source": [
    "df_books = get_data(fetch_data=fetchJson, url=BOOKS, headers=HEADERS, num_pages=NUM_PAGES)\n",
    "# df_books = pd.read_json('./data.json')"
   ]
  },
  {
   "cell_type": "code",
   "execution_count": 115,
   "metadata": {},
   "outputs": [],
   "source": [
    "df_books.to_json('./data.json')"
   ]
  },
  {
   "cell_type": "markdown",
   "metadata": {},
   "source": [
    "### Exploring the data"
   ]
  },
  {
   "cell_type": "markdown",
   "metadata": {},
   "source": [
    "First, checking the colums to see how big is the dataframe we are handling"
   ]
  },
  {
   "cell_type": "code",
   "execution_count": 116,
   "metadata": {},
   "outputs": [
    {
     "data": {
      "text/plain": [
       "Index(['id', 'title', 'authors', 'translators', 'subjects', 'bookshelves',\n",
       "       'languages', 'copyright', 'media_type', 'formats', 'download_count',\n",
       "       'author_birth_year', 'first_author'],\n",
       "      dtype='object')"
      ]
     },
     "execution_count": 116,
     "metadata": {},
     "output_type": "execute_result"
    }
   ],
   "source": [
    "df_books.columns"
   ]
  },
  {
   "cell_type": "markdown",
   "metadata": {},
   "source": [
    "Then we check the shape, to see how many rows we are working with, and a sample from the head."
   ]
  },
  {
   "cell_type": "code",
   "execution_count": 117,
   "metadata": {},
   "outputs": [
    {
     "name": "stdout",
     "output_type": "stream",
     "text": [
      "(4992, 13)\n"
     ]
    },
    {
     "data": {
      "text/html": [
       "<div>\n",
       "<style scoped>\n",
       "    .dataframe tbody tr th:only-of-type {\n",
       "        vertical-align: middle;\n",
       "    }\n",
       "\n",
       "    .dataframe tbody tr th {\n",
       "        vertical-align: top;\n",
       "    }\n",
       "\n",
       "    .dataframe thead th {\n",
       "        text-align: right;\n",
       "    }\n",
       "</style>\n",
       "<table border=\"1\" class=\"dataframe\">\n",
       "  <thead>\n",
       "    <tr style=\"text-align: right;\">\n",
       "      <th></th>\n",
       "      <th>id</th>\n",
       "      <th>title</th>\n",
       "      <th>authors</th>\n",
       "      <th>translators</th>\n",
       "      <th>subjects</th>\n",
       "      <th>bookshelves</th>\n",
       "      <th>languages</th>\n",
       "      <th>copyright</th>\n",
       "      <th>media_type</th>\n",
       "      <th>formats</th>\n",
       "      <th>download_count</th>\n",
       "      <th>author_birth_year</th>\n",
       "      <th>first_author</th>\n",
       "    </tr>\n",
       "  </thead>\n",
       "  <tbody>\n",
       "    <tr>\n",
       "      <th>0</th>\n",
       "      <td>1513</td>\n",
       "      <td>Romeo and Juliet</td>\n",
       "      <td>[{'name': 'Shakespeare, William', 'birth_year'...</td>\n",
       "      <td>[]</td>\n",
       "      <td>[Conflict of generations -- Drama, Juliet (Fic...</td>\n",
       "      <td>[Browsing: Fiction, Browsing: Literature, Brow...</td>\n",
       "      <td>[en]</td>\n",
       "      <td>False</td>\n",
       "      <td>Text</td>\n",
       "      <td>{'text/html': 'https://www.gutenberg.org/ebook...</td>\n",
       "      <td>79350</td>\n",
       "      <td>1564.0</td>\n",
       "      <td>Shakespeare, William</td>\n",
       "    </tr>\n",
       "    <tr>\n",
       "      <th>1</th>\n",
       "      <td>2701</td>\n",
       "      <td>Moby Dick; Or, The Whale</td>\n",
       "      <td>[{'name': 'Melville, Herman', 'birth_year': 18...</td>\n",
       "      <td>[]</td>\n",
       "      <td>[Adventure stories, Ahab, Captain (Fictitious ...</td>\n",
       "      <td>[Best Books Ever Listings, Browsing: Fiction, ...</td>\n",
       "      <td>[en]</td>\n",
       "      <td>False</td>\n",
       "      <td>Text</td>\n",
       "      <td>{'text/html': 'https://www.gutenberg.org/ebook...</td>\n",
       "      <td>72591</td>\n",
       "      <td>1819.0</td>\n",
       "      <td>Melville, Herman</td>\n",
       "    </tr>\n",
       "    <tr>\n",
       "      <th>2</th>\n",
       "      <td>1342</td>\n",
       "      <td>Pride and Prejudice</td>\n",
       "      <td>[{'name': 'Austen, Jane', 'birth_year': 1775, ...</td>\n",
       "      <td>[]</td>\n",
       "      <td>[Courtship -- Fiction, Domestic fiction, Engla...</td>\n",
       "      <td>[Best Books Ever Listings, Browsing: Culture/C...</td>\n",
       "      <td>[en]</td>\n",
       "      <td>False</td>\n",
       "      <td>Text</td>\n",
       "      <td>{'text/html': 'https://www.gutenberg.org/ebook...</td>\n",
       "      <td>58898</td>\n",
       "      <td>1775.0</td>\n",
       "      <td>Austen, Jane</td>\n",
       "    </tr>\n",
       "    <tr>\n",
       "      <th>3</th>\n",
       "      <td>37106</td>\n",
       "      <td>Little Women; Or, Meg, Jo, Beth, and Amy</td>\n",
       "      <td>[{'name': 'Alcott, Louisa May', 'birth_year': ...</td>\n",
       "      <td>[]</td>\n",
       "      <td>[Autobiographical fiction, Bildungsromans, Dom...</td>\n",
       "      <td>[]</td>\n",
       "      <td>[en]</td>\n",
       "      <td>False</td>\n",
       "      <td>Text</td>\n",
       "      <td>{'text/html': 'https://www.gutenberg.org/ebook...</td>\n",
       "      <td>53439</td>\n",
       "      <td>1832.0</td>\n",
       "      <td>Alcott, Louisa May</td>\n",
       "    </tr>\n",
       "    <tr>\n",
       "      <th>4</th>\n",
       "      <td>145</td>\n",
       "      <td>Middlemarch</td>\n",
       "      <td>[{'name': 'Eliot, George', 'birth_year': 1819,...</td>\n",
       "      <td>[]</td>\n",
       "      <td>[Bildungsromans, City and town life -- Fiction...</td>\n",
       "      <td>[Best Books Ever Listings, Browsing: Culture/C...</td>\n",
       "      <td>[en]</td>\n",
       "      <td>False</td>\n",
       "      <td>Text</td>\n",
       "      <td>{'text/html': 'https://www.gutenberg.org/ebook...</td>\n",
       "      <td>53226</td>\n",
       "      <td>1819.0</td>\n",
       "      <td>Eliot, George</td>\n",
       "    </tr>\n",
       "  </tbody>\n",
       "</table>\n",
       "</div>"
      ],
      "text/plain": [
       "      id                                     title  \\\n",
       "0   1513                          Romeo and Juliet   \n",
       "1   2701                  Moby Dick; Or, The Whale   \n",
       "2   1342                       Pride and Prejudice   \n",
       "3  37106  Little Women; Or, Meg, Jo, Beth, and Amy   \n",
       "4    145                               Middlemarch   \n",
       "\n",
       "                                             authors translators  \\\n",
       "0  [{'name': 'Shakespeare, William', 'birth_year'...          []   \n",
       "1  [{'name': 'Melville, Herman', 'birth_year': 18...          []   \n",
       "2  [{'name': 'Austen, Jane', 'birth_year': 1775, ...          []   \n",
       "3  [{'name': 'Alcott, Louisa May', 'birth_year': ...          []   \n",
       "4  [{'name': 'Eliot, George', 'birth_year': 1819,...          []   \n",
       "\n",
       "                                            subjects  \\\n",
       "0  [Conflict of generations -- Drama, Juliet (Fic...   \n",
       "1  [Adventure stories, Ahab, Captain (Fictitious ...   \n",
       "2  [Courtship -- Fiction, Domestic fiction, Engla...   \n",
       "3  [Autobiographical fiction, Bildungsromans, Dom...   \n",
       "4  [Bildungsromans, City and town life -- Fiction...   \n",
       "\n",
       "                                         bookshelves languages  copyright  \\\n",
       "0  [Browsing: Fiction, Browsing: Literature, Brow...      [en]      False   \n",
       "1  [Best Books Ever Listings, Browsing: Fiction, ...      [en]      False   \n",
       "2  [Best Books Ever Listings, Browsing: Culture/C...      [en]      False   \n",
       "3                                                 []      [en]      False   \n",
       "4  [Best Books Ever Listings, Browsing: Culture/C...      [en]      False   \n",
       "\n",
       "  media_type                                            formats  \\\n",
       "0       Text  {'text/html': 'https://www.gutenberg.org/ebook...   \n",
       "1       Text  {'text/html': 'https://www.gutenberg.org/ebook...   \n",
       "2       Text  {'text/html': 'https://www.gutenberg.org/ebook...   \n",
       "3       Text  {'text/html': 'https://www.gutenberg.org/ebook...   \n",
       "4       Text  {'text/html': 'https://www.gutenberg.org/ebook...   \n",
       "\n",
       "   download_count  author_birth_year          first_author  \n",
       "0           79350             1564.0  Shakespeare, William  \n",
       "1           72591             1819.0      Melville, Herman  \n",
       "2           58898             1775.0          Austen, Jane  \n",
       "3           53439             1832.0    Alcott, Louisa May  \n",
       "4           53226             1819.0         Eliot, George  "
      ]
     },
     "execution_count": 117,
     "metadata": {},
     "output_type": "execute_result"
    }
   ],
   "source": [
    "print(df_books.shape)\n",
    "df_books.head()"
   ]
  },
  {
   "cell_type": "markdown",
   "metadata": {},
   "source": [
    "Then we proceed with the info method, to check the data types of the colums. More specific, if the download_count is an integer, <br>\n",
    "to prepare it for future math operations. In this case is already an integer."
   ]
  },
  {
   "cell_type": "code",
   "execution_count": 118,
   "metadata": {},
   "outputs": [
    {
     "name": "stdout",
     "output_type": "stream",
     "text": [
      "<class 'pandas.core.frame.DataFrame'>\n",
      "Int64Index: 4992 entries, 0 to 4991\n",
      "Data columns (total 13 columns):\n",
      " #   Column             Non-Null Count  Dtype  \n",
      "---  ------             --------------  -----  \n",
      " 0   id                 4992 non-null   int64  \n",
      " 1   title              4992 non-null   object \n",
      " 2   authors            4992 non-null   object \n",
      " 3   translators        4992 non-null   object \n",
      " 4   subjects           4992 non-null   object \n",
      " 5   bookshelves        4992 non-null   object \n",
      " 6   languages          4992 non-null   object \n",
      " 7   copyright          4992 non-null   bool   \n",
      " 8   media_type         4992 non-null   object \n",
      " 9   formats            4992 non-null   object \n",
      " 10  download_count     4992 non-null   int64  \n",
      " 11  author_birth_year  3943 non-null   float64\n",
      " 12  first_author       4992 non-null   object \n",
      "dtypes: bool(1), float64(1), int64(2), object(9)\n",
      "memory usage: 640.9+ KB\n"
     ]
    }
   ],
   "source": [
    "df_books.info()"
   ]
  },
  {
   "cell_type": "markdown",
   "metadata": {},
   "source": [
    "<hr>\n",
    "\n",
    "# General statistics"
   ]
  },
  {
   "cell_type": "markdown",
   "metadata": {},
   "source": [
    "### Books per Author"
   ]
  },
  {
   "cell_type": "markdown",
   "metadata": {},
   "source": [
    "As the authors in the dataframe can be an array of authors, the function bellow checks that and return the name, or the first author name."
   ]
  },
  {
   "cell_type": "code",
   "execution_count": 119,
   "metadata": {},
   "outputs": [],
   "source": [
    "def get_author_name(authors):\n",
    "    if isinstance(authors, dict) and 'name' in authors:\n",
    "        return authors['name']\n",
    "    elif isinstance(authors, list) and len(authors) > 0:\n",
    "        return authors[0].get('name', '')\n",
    "    return ''\n"
   ]
  },
  {
   "cell_type": "code",
   "execution_count": 120,
   "metadata": {},
   "outputs": [
    {
     "name": "stdout",
     "output_type": "stream",
     "text": [
      "Books per author: \n"
     ]
    },
    {
     "data": {
      "text/plain": [
       "Dickens, Charles                 49\n",
       "Shakespeare, William             46\n",
       "Twain, Mark                      43\n",
       "Anonymous                        40\n",
       "Conrad, Joseph                   29\n",
       "Plato                            28\n",
       "Wells, H. G. (Herbert George)    27\n",
       "Nietzsche, Friedrich Wilhelm     26\n",
       "Name: authors, dtype: int64"
      ]
     },
     "execution_count": 120,
     "metadata": {},
     "output_type": "execute_result"
    }
   ],
   "source": [
    "books_per_author = df_books['authors'].apply(get_author_name).value_counts()\n",
    "print('Books per author: ')\n",
    "books_per_author.head(10)[2:]"
   ]
  },
  {
   "cell_type": "markdown",
   "metadata": {},
   "source": [
    "As we can see, Charles Dickens is the author with the most books in this Data Analysis, followed by Shakespeare."
   ]
  },
  {
   "cell_type": "markdown",
   "metadata": {},
   "source": [
    "### Top 10 Genres"
   ]
  },
  {
   "cell_type": "markdown",
   "metadata": {},
   "source": [
    "First, lets normalize the genre names, making all upper case and removing any special characters."
   ]
  },
  {
   "cell_type": "code",
   "execution_count": 121,
   "metadata": {},
   "outputs": [],
   "source": [
    "def remove_special_characters(s):\n",
    "    return ''.join(char for char in s if char.isalnum() or char.isspace())"
   ]
  },
  {
   "cell_type": "code",
   "execution_count": 122,
   "metadata": {},
   "outputs": [],
   "source": [
    "def subjects_to_upper(subject):\n",
    "    if isinstance(subject, list) and len(subject) > 0:\n",
    "        return list(map(lambda x: remove_special_characters(x.upper()), subject))\n",
    "    return None"
   ]
  },
  {
   "cell_type": "code",
   "execution_count": 123,
   "metadata": {},
   "outputs": [
    {
     "name": "stdout",
     "output_type": "stream",
     "text": [
      "\n",
      "Most Popular Subjects:\n",
      "SHORT STORIES            151\n",
      "SCIENCE FICTION          139\n",
      "LOVE STORIES             108\n",
      "HISTORICAL FICTION       106\n",
      "ADVENTURE STORIES        102\n",
      "ENGLAND  FICTION         100\n",
      "PSYCHOLOGICAL FICTION     98\n",
      "DOMESTIC FICTION          89\n",
      "FAIRY TALES               77\n",
      "BILDUNGSROMANS            75\n",
      "Name: subjects, dtype: int64\n"
     ]
    }
   ],
   "source": [
    "popular_subjects = df_books['subjects'].apply(lambda x: subjects_to_upper(x)).explode().value_counts()\n",
    "print(\"\\nMost Popular Subjects:\")\n",
    "print(popular_subjects.head(10))"
   ]
  },
  {
   "cell_type": "markdown",
   "metadata": {},
   "source": [
    "In Project Gutenberg, apparently the book genre that has the most books is Short Stories, followed up by Science Fiction.<br>\n",
    "The real surprise here is the genre 'Bildungsromans' being in the 10th position."
   ]
  },
  {
   "cell_type": "markdown",
   "metadata": {},
   "source": [
    "### Top 10 most downloaded books"
   ]
  },
  {
   "cell_type": "code",
   "execution_count": 124,
   "metadata": {},
   "outputs": [
    {
     "data": {
      "application/vnd.plotly.v1+json": {
       "config": {
        "plotlyServerURL": "https://plot.ly"
       },
       "data": [
        {
         "alignmentgroup": "True",
         "hovertemplate": "x=%{x}<br>y=%{y}<extra></extra>",
         "legendgroup": "",
         "marker": {
          "color": "#636efa",
          "pattern": {
           "shape": ""
          }
         },
         "name": "",
         "offsetgroup": "",
         "orientation": "v",
         "showlegend": false,
         "textposition": "auto",
         "type": "bar",
         "x": [
          "Romeo and Juliet",
          "Moby Dick; Or, The Whale",
          "Pride and Prejudice",
          "Little Women; Or, Meg, Jo, Beth, and Amy",
          "Middlemarch",
          "A Room with a View",
          "Frankenstein; Or, The Modern Prometheus",
          "The Complete Works of William Shakespeare",
          "The Blue Castle: a novel",
          "The Adventures of Ferdinand Count Fathom — Complete"
         ],
         "xaxis": "x",
         "y": [
          79350,
          72591,
          58898,
          53439,
          53226,
          51735,
          50624,
          50438,
          45755,
          41703
         ],
         "yaxis": "y"
        }
       ],
       "layout": {
        "barmode": "relative",
        "height": 700,
        "legend": {
         "tracegroupgap": 0
        },
        "template": {
         "data": {
          "bar": [
           {
            "error_x": {
             "color": "#2a3f5f"
            },
            "error_y": {
             "color": "#2a3f5f"
            },
            "marker": {
             "line": {
              "color": "#E5ECF6",
              "width": 0.5
             },
             "pattern": {
              "fillmode": "overlay",
              "size": 10,
              "solidity": 0.2
             }
            },
            "type": "bar"
           }
          ],
          "barpolar": [
           {
            "marker": {
             "line": {
              "color": "#E5ECF6",
              "width": 0.5
             },
             "pattern": {
              "fillmode": "overlay",
              "size": 10,
              "solidity": 0.2
             }
            },
            "type": "barpolar"
           }
          ],
          "carpet": [
           {
            "aaxis": {
             "endlinecolor": "#2a3f5f",
             "gridcolor": "white",
             "linecolor": "white",
             "minorgridcolor": "white",
             "startlinecolor": "#2a3f5f"
            },
            "baxis": {
             "endlinecolor": "#2a3f5f",
             "gridcolor": "white",
             "linecolor": "white",
             "minorgridcolor": "white",
             "startlinecolor": "#2a3f5f"
            },
            "type": "carpet"
           }
          ],
          "choropleth": [
           {
            "colorbar": {
             "outlinewidth": 0,
             "ticks": ""
            },
            "type": "choropleth"
           }
          ],
          "contour": [
           {
            "colorbar": {
             "outlinewidth": 0,
             "ticks": ""
            },
            "colorscale": [
             [
              0,
              "#0d0887"
             ],
             [
              0.1111111111111111,
              "#46039f"
             ],
             [
              0.2222222222222222,
              "#7201a8"
             ],
             [
              0.3333333333333333,
              "#9c179e"
             ],
             [
              0.4444444444444444,
              "#bd3786"
             ],
             [
              0.5555555555555556,
              "#d8576b"
             ],
             [
              0.6666666666666666,
              "#ed7953"
             ],
             [
              0.7777777777777778,
              "#fb9f3a"
             ],
             [
              0.8888888888888888,
              "#fdca26"
             ],
             [
              1,
              "#f0f921"
             ]
            ],
            "type": "contour"
           }
          ],
          "contourcarpet": [
           {
            "colorbar": {
             "outlinewidth": 0,
             "ticks": ""
            },
            "type": "contourcarpet"
           }
          ],
          "heatmap": [
           {
            "colorbar": {
             "outlinewidth": 0,
             "ticks": ""
            },
            "colorscale": [
             [
              0,
              "#0d0887"
             ],
             [
              0.1111111111111111,
              "#46039f"
             ],
             [
              0.2222222222222222,
              "#7201a8"
             ],
             [
              0.3333333333333333,
              "#9c179e"
             ],
             [
              0.4444444444444444,
              "#bd3786"
             ],
             [
              0.5555555555555556,
              "#d8576b"
             ],
             [
              0.6666666666666666,
              "#ed7953"
             ],
             [
              0.7777777777777778,
              "#fb9f3a"
             ],
             [
              0.8888888888888888,
              "#fdca26"
             ],
             [
              1,
              "#f0f921"
             ]
            ],
            "type": "heatmap"
           }
          ],
          "heatmapgl": [
           {
            "colorbar": {
             "outlinewidth": 0,
             "ticks": ""
            },
            "colorscale": [
             [
              0,
              "#0d0887"
             ],
             [
              0.1111111111111111,
              "#46039f"
             ],
             [
              0.2222222222222222,
              "#7201a8"
             ],
             [
              0.3333333333333333,
              "#9c179e"
             ],
             [
              0.4444444444444444,
              "#bd3786"
             ],
             [
              0.5555555555555556,
              "#d8576b"
             ],
             [
              0.6666666666666666,
              "#ed7953"
             ],
             [
              0.7777777777777778,
              "#fb9f3a"
             ],
             [
              0.8888888888888888,
              "#fdca26"
             ],
             [
              1,
              "#f0f921"
             ]
            ],
            "type": "heatmapgl"
           }
          ],
          "histogram": [
           {
            "marker": {
             "pattern": {
              "fillmode": "overlay",
              "size": 10,
              "solidity": 0.2
             }
            },
            "type": "histogram"
           }
          ],
          "histogram2d": [
           {
            "colorbar": {
             "outlinewidth": 0,
             "ticks": ""
            },
            "colorscale": [
             [
              0,
              "#0d0887"
             ],
             [
              0.1111111111111111,
              "#46039f"
             ],
             [
              0.2222222222222222,
              "#7201a8"
             ],
             [
              0.3333333333333333,
              "#9c179e"
             ],
             [
              0.4444444444444444,
              "#bd3786"
             ],
             [
              0.5555555555555556,
              "#d8576b"
             ],
             [
              0.6666666666666666,
              "#ed7953"
             ],
             [
              0.7777777777777778,
              "#fb9f3a"
             ],
             [
              0.8888888888888888,
              "#fdca26"
             ],
             [
              1,
              "#f0f921"
             ]
            ],
            "type": "histogram2d"
           }
          ],
          "histogram2dcontour": [
           {
            "colorbar": {
             "outlinewidth": 0,
             "ticks": ""
            },
            "colorscale": [
             [
              0,
              "#0d0887"
             ],
             [
              0.1111111111111111,
              "#46039f"
             ],
             [
              0.2222222222222222,
              "#7201a8"
             ],
             [
              0.3333333333333333,
              "#9c179e"
             ],
             [
              0.4444444444444444,
              "#bd3786"
             ],
             [
              0.5555555555555556,
              "#d8576b"
             ],
             [
              0.6666666666666666,
              "#ed7953"
             ],
             [
              0.7777777777777778,
              "#fb9f3a"
             ],
             [
              0.8888888888888888,
              "#fdca26"
             ],
             [
              1,
              "#f0f921"
             ]
            ],
            "type": "histogram2dcontour"
           }
          ],
          "mesh3d": [
           {
            "colorbar": {
             "outlinewidth": 0,
             "ticks": ""
            },
            "type": "mesh3d"
           }
          ],
          "parcoords": [
           {
            "line": {
             "colorbar": {
              "outlinewidth": 0,
              "ticks": ""
             }
            },
            "type": "parcoords"
           }
          ],
          "pie": [
           {
            "automargin": true,
            "type": "pie"
           }
          ],
          "scatter": [
           {
            "fillpattern": {
             "fillmode": "overlay",
             "size": 10,
             "solidity": 0.2
            },
            "type": "scatter"
           }
          ],
          "scatter3d": [
           {
            "line": {
             "colorbar": {
              "outlinewidth": 0,
              "ticks": ""
             }
            },
            "marker": {
             "colorbar": {
              "outlinewidth": 0,
              "ticks": ""
             }
            },
            "type": "scatter3d"
           }
          ],
          "scattercarpet": [
           {
            "marker": {
             "colorbar": {
              "outlinewidth": 0,
              "ticks": ""
             }
            },
            "type": "scattercarpet"
           }
          ],
          "scattergeo": [
           {
            "marker": {
             "colorbar": {
              "outlinewidth": 0,
              "ticks": ""
             }
            },
            "type": "scattergeo"
           }
          ],
          "scattergl": [
           {
            "marker": {
             "colorbar": {
              "outlinewidth": 0,
              "ticks": ""
             }
            },
            "type": "scattergl"
           }
          ],
          "scattermapbox": [
           {
            "marker": {
             "colorbar": {
              "outlinewidth": 0,
              "ticks": ""
             }
            },
            "type": "scattermapbox"
           }
          ],
          "scatterpolar": [
           {
            "marker": {
             "colorbar": {
              "outlinewidth": 0,
              "ticks": ""
             }
            },
            "type": "scatterpolar"
           }
          ],
          "scatterpolargl": [
           {
            "marker": {
             "colorbar": {
              "outlinewidth": 0,
              "ticks": ""
             }
            },
            "type": "scatterpolargl"
           }
          ],
          "scatterternary": [
           {
            "marker": {
             "colorbar": {
              "outlinewidth": 0,
              "ticks": ""
             }
            },
            "type": "scatterternary"
           }
          ],
          "surface": [
           {
            "colorbar": {
             "outlinewidth": 0,
             "ticks": ""
            },
            "colorscale": [
             [
              0,
              "#0d0887"
             ],
             [
              0.1111111111111111,
              "#46039f"
             ],
             [
              0.2222222222222222,
              "#7201a8"
             ],
             [
              0.3333333333333333,
              "#9c179e"
             ],
             [
              0.4444444444444444,
              "#bd3786"
             ],
             [
              0.5555555555555556,
              "#d8576b"
             ],
             [
              0.6666666666666666,
              "#ed7953"
             ],
             [
              0.7777777777777778,
              "#fb9f3a"
             ],
             [
              0.8888888888888888,
              "#fdca26"
             ],
             [
              1,
              "#f0f921"
             ]
            ],
            "type": "surface"
           }
          ],
          "table": [
           {
            "cells": {
             "fill": {
              "color": "#EBF0F8"
             },
             "line": {
              "color": "white"
             }
            },
            "header": {
             "fill": {
              "color": "#C8D4E3"
             },
             "line": {
              "color": "white"
             }
            },
            "type": "table"
           }
          ]
         },
         "layout": {
          "annotationdefaults": {
           "arrowcolor": "#2a3f5f",
           "arrowhead": 0,
           "arrowwidth": 1
          },
          "autotypenumbers": "strict",
          "coloraxis": {
           "colorbar": {
            "outlinewidth": 0,
            "ticks": ""
           }
          },
          "colorscale": {
           "diverging": [
            [
             0,
             "#8e0152"
            ],
            [
             0.1,
             "#c51b7d"
            ],
            [
             0.2,
             "#de77ae"
            ],
            [
             0.3,
             "#f1b6da"
            ],
            [
             0.4,
             "#fde0ef"
            ],
            [
             0.5,
             "#f7f7f7"
            ],
            [
             0.6,
             "#e6f5d0"
            ],
            [
             0.7,
             "#b8e186"
            ],
            [
             0.8,
             "#7fbc41"
            ],
            [
             0.9,
             "#4d9221"
            ],
            [
             1,
             "#276419"
            ]
           ],
           "sequential": [
            [
             0,
             "#0d0887"
            ],
            [
             0.1111111111111111,
             "#46039f"
            ],
            [
             0.2222222222222222,
             "#7201a8"
            ],
            [
             0.3333333333333333,
             "#9c179e"
            ],
            [
             0.4444444444444444,
             "#bd3786"
            ],
            [
             0.5555555555555556,
             "#d8576b"
            ],
            [
             0.6666666666666666,
             "#ed7953"
            ],
            [
             0.7777777777777778,
             "#fb9f3a"
            ],
            [
             0.8888888888888888,
             "#fdca26"
            ],
            [
             1,
             "#f0f921"
            ]
           ],
           "sequentialminus": [
            [
             0,
             "#0d0887"
            ],
            [
             0.1111111111111111,
             "#46039f"
            ],
            [
             0.2222222222222222,
             "#7201a8"
            ],
            [
             0.3333333333333333,
             "#9c179e"
            ],
            [
             0.4444444444444444,
             "#bd3786"
            ],
            [
             0.5555555555555556,
             "#d8576b"
            ],
            [
             0.6666666666666666,
             "#ed7953"
            ],
            [
             0.7777777777777778,
             "#fb9f3a"
            ],
            [
             0.8888888888888888,
             "#fdca26"
            ],
            [
             1,
             "#f0f921"
            ]
           ]
          },
          "colorway": [
           "#636efa",
           "#EF553B",
           "#00cc96",
           "#ab63fa",
           "#FFA15A",
           "#19d3f3",
           "#FF6692",
           "#B6E880",
           "#FF97FF",
           "#FECB52"
          ],
          "font": {
           "color": "#2a3f5f"
          },
          "geo": {
           "bgcolor": "white",
           "lakecolor": "white",
           "landcolor": "#E5ECF6",
           "showlakes": true,
           "showland": true,
           "subunitcolor": "white"
          },
          "hoverlabel": {
           "align": "left"
          },
          "hovermode": "closest",
          "mapbox": {
           "style": "light"
          },
          "paper_bgcolor": "white",
          "plot_bgcolor": "#E5ECF6",
          "polar": {
           "angularaxis": {
            "gridcolor": "white",
            "linecolor": "white",
            "ticks": ""
           },
           "bgcolor": "#E5ECF6",
           "radialaxis": {
            "gridcolor": "white",
            "linecolor": "white",
            "ticks": ""
           }
          },
          "scene": {
           "xaxis": {
            "backgroundcolor": "#E5ECF6",
            "gridcolor": "white",
            "gridwidth": 2,
            "linecolor": "white",
            "showbackground": true,
            "ticks": "",
            "zerolinecolor": "white"
           },
           "yaxis": {
            "backgroundcolor": "#E5ECF6",
            "gridcolor": "white",
            "gridwidth": 2,
            "linecolor": "white",
            "showbackground": true,
            "ticks": "",
            "zerolinecolor": "white"
           },
           "zaxis": {
            "backgroundcolor": "#E5ECF6",
            "gridcolor": "white",
            "gridwidth": 2,
            "linecolor": "white",
            "showbackground": true,
            "ticks": "",
            "zerolinecolor": "white"
           }
          },
          "shapedefaults": {
           "line": {
            "color": "#2a3f5f"
           }
          },
          "ternary": {
           "aaxis": {
            "gridcolor": "white",
            "linecolor": "white",
            "ticks": ""
           },
           "baxis": {
            "gridcolor": "white",
            "linecolor": "white",
            "ticks": ""
           },
           "bgcolor": "#E5ECF6",
           "caxis": {
            "gridcolor": "white",
            "linecolor": "white",
            "ticks": ""
           }
          },
          "title": {
           "x": 0.05
          },
          "xaxis": {
           "automargin": true,
           "gridcolor": "white",
           "linecolor": "white",
           "ticks": "",
           "title": {
            "standoff": 15
           },
           "zerolinecolor": "white",
           "zerolinewidth": 2
          },
          "yaxis": {
           "automargin": true,
           "gridcolor": "white",
           "linecolor": "white",
           "ticks": "",
           "title": {
            "standoff": 15
           },
           "zerolinecolor": "white",
           "zerolinewidth": 2
          }
         }
        },
        "title": {
         "text": "Top 10 most downloaded books"
        },
        "xaxis": {
         "anchor": "y",
         "domain": [
          0,
          1
         ],
         "title": {
          "text": "x"
         }
        },
        "yaxis": {
         "anchor": "x",
         "domain": [
          0,
          1
         ],
         "title": {
          "text": "y"
         }
        }
       }
      }
     },
     "metadata": {},
     "output_type": "display_data"
    }
   ],
   "source": [
    "most_downloaded_books = df_books.sort_values('download_count', ascending=False).head(10)\n",
    "\n",
    "top_downloads_bar = px.bar(\n",
    "  x=most_downloaded_books.title, \n",
    "  y=most_downloaded_books.download_count, \n",
    "  title='Top 10 most downloaded books',\n",
    "  height=700\n",
    ")\n",
    "top_downloads_bar.show()"
   ]
  },
  {
   "cell_type": "markdown",
   "metadata": {},
   "source": [
    "We can conclude that the classic books are indeed the most downloaded, with a romance novel being in the 1st position, <br> \n",
    "although the romance genre being the 3rd most common genre."
   ]
  },
  {
   "cell_type": "markdown",
   "metadata": {},
   "source": [
    "# Relation between author Birth Year and Downloads/Popularity"
   ]
  },
  {
   "cell_type": "markdown",
   "metadata": {},
   "source": [
    "If multiple authors, a validation must be done to get the birth year either from a string or a list."
   ]
  },
  {
   "cell_type": "code",
   "execution_count": 125,
   "metadata": {},
   "outputs": [],
   "source": [
    "def get_author_birth_year(authors):\n",
    "    if isinstance(authors, list) and len(authors) > 0:\n",
    "        return authors[0].get('birth_year', None)\n",
    "    return None"
   ]
  },
  {
   "cell_type": "code",
   "execution_count": 126,
   "metadata": {},
   "outputs": [],
   "source": [
    "df_books['author_birth_year'] = df_books['authors'].apply(get_author_birth_year)"
   ]
  },
  {
   "cell_type": "code",
   "execution_count": 127,
   "metadata": {},
   "outputs": [
    {
     "data": {
      "text/html": [
       "<div>\n",
       "<style scoped>\n",
       "    .dataframe tbody tr th:only-of-type {\n",
       "        vertical-align: middle;\n",
       "    }\n",
       "\n",
       "    .dataframe tbody tr th {\n",
       "        vertical-align: top;\n",
       "    }\n",
       "\n",
       "    .dataframe thead th {\n",
       "        text-align: right;\n",
       "    }\n",
       "</style>\n",
       "<table border=\"1\" class=\"dataframe\">\n",
       "  <thead>\n",
       "    <tr style=\"text-align: right;\">\n",
       "      <th></th>\n",
       "      <th>author_birth_year</th>\n",
       "      <th>download_count</th>\n",
       "    </tr>\n",
       "  </thead>\n",
       "  <tbody>\n",
       "    <tr>\n",
       "      <th>0</th>\n",
       "      <td>1564.0</td>\n",
       "      <td>179380</td>\n",
       "    </tr>\n",
       "    <tr>\n",
       "      <th>1</th>\n",
       "      <td>1819.0</td>\n",
       "      <td>158505</td>\n",
       "    </tr>\n",
       "    <tr>\n",
       "      <th>2</th>\n",
       "      <td>1832.0</td>\n",
       "      <td>133674</td>\n",
       "    </tr>\n",
       "    <tr>\n",
       "      <th>3</th>\n",
       "      <td>1721.0</td>\n",
       "      <td>122876</td>\n",
       "    </tr>\n",
       "    <tr>\n",
       "      <th>4</th>\n",
       "      <td>1874.0</td>\n",
       "      <td>110544</td>\n",
       "    </tr>\n",
       "  </tbody>\n",
       "</table>\n",
       "</div>"
      ],
      "text/plain": [
       "   author_birth_year  download_count\n",
       "0             1564.0          179380\n",
       "1             1819.0          158505\n",
       "2             1832.0          133674\n",
       "3             1721.0          122876\n",
       "4             1874.0          110544"
      ]
     },
     "execution_count": 127,
     "metadata": {},
     "output_type": "execute_result"
    }
   ],
   "source": [
    "birth_vs_downloads = df_books.groupby('author_birth_year').agg({'download_count': pd.Series.sum}).sort_values('download_count', ascending=False).reset_index()\n",
    "birth_vs_downloads.head(5)"
   ]
  },
  {
   "cell_type": "code",
   "execution_count": 128,
   "metadata": {},
   "outputs": [
    {
     "data": {
      "image/png": "[encoded data removed]",
      "text/plain": [
       "<Figure size 1200x600 with 1 Axes>"
      ]
     },
     "metadata": {},
     "output_type": "display_data"
    }
   ],
   "source": [
    "plt.figure(figsize=(12, 6))\n",
    "plt.scatter(birth_vs_downloads['author_birth_year'], birth_vs_downloads['download_count'])\n",
    "plt.xlabel('Author Birth Year')\n",
    "plt.ylabel('Download Count')\n",
    "plt.title('Relation between author birth year and downloads/popularity')\n",
    "plt.xticks()\n",
    "plt.show()"
   ]
  },
  {
   "cell_type": "markdown",
   "metadata": {},
   "source": [
    "As we can see, the most downloaded books are from the 17th, 18th and 19th century. We can therefore conclude that the Project Gutenberg has a vital role of exposing old literature to this new digital world, bringing people the the views and sentiments of the past generations, across multiple centuries."
   ]
  },
  {
   "cell_type": "markdown",
   "metadata": {},
   "source": [
    "# Most popular Authors"
   ]
  },
  {
   "cell_type": "markdown",
   "metadata": {},
   "source": [
    "First, we create a first_author column in our dataframe. Then we get the name, depending if the book has multiple or just one author. <br>\n",
    "We proceed to create a new dataframe grouping by the first_author and then aggregating with the downloading count, summing all of them. <br>\n",
    "We use the reset_index() function to having normal numeric index instead of the author's name."
   ]
  },
  {
   "cell_type": "code",
   "execution_count": 167,
   "metadata": {},
   "outputs": [],
   "source": [
    "df_books['first_author'] = df_books['authors'].apply(lambda x: x[0]['name'] if isinstance(x, list) and len(x) > 0 else 'Unknown')\n",
    "\n",
    "author_download_counts = df_books.groupby('first_author').agg({'download_count': 'sum'}).reset_index()\n",
    "author_download_counts.columns = ['Author', 'Total Downloads']\n",
    "author_download_counts = author_download_counts[author_download_counts['Author'] != 'Various']\n",
    "author_download_counts = author_download_counts.sort_values('Total Downloads', ascending=False)[1:11]"
   ]
  },
  {
   "cell_type": "code",
   "execution_count": 168,
   "metadata": {},
   "outputs": [
    {
     "data": {
      "text/html": [
       "<div>\n",
       "<style scoped>\n",
       "    .dataframe tbody tr th:only-of-type {\n",
       "        vertical-align: middle;\n",
       "    }\n",
       "\n",
       "    .dataframe tbody tr th {\n",
       "        vertical-align: top;\n",
       "    }\n",
       "\n",
       "    .dataframe thead th {\n",
       "        text-align: right;\n",
       "    }\n",
       "</style>\n",
       "<table border=\"1\" class=\"dataframe\">\n",
       "  <thead>\n",
       "    <tr style=\"text-align: right;\">\n",
       "      <th></th>\n",
       "      <th>Author</th>\n",
       "      <th>Total Downloads</th>\n",
       "    </tr>\n",
       "  </thead>\n",
       "  <tbody>\n",
       "    <tr>\n",
       "      <th>619</th>\n",
       "      <td>Dickens, Charles</td>\n",
       "      <td>86561</td>\n",
       "    </tr>\n",
       "    <tr>\n",
       "      <th>1463</th>\n",
       "      <td>Melville, Herman</td>\n",
       "      <td>81726</td>\n",
       "    </tr>\n",
       "  </tbody>\n",
       "</table>\n",
       "</div>"
      ],
      "text/plain": [
       "                Author  Total Downloads\n",
       "619   Dickens, Charles            86561\n",
       "1463  Melville, Herman            81726"
      ]
     },
     "execution_count": 168,
     "metadata": {},
     "output_type": "execute_result"
    }
   ],
   "source": [
    "author_download_counts.sample(2)"
   ]
  },
  {
   "cell_type": "code",
   "execution_count": 169,
   "metadata": {},
   "outputs": [
    {
     "data": {
      "text/plain": [
       "<BarContainer object of 10 artists>"
      ]
     },
     "execution_count": 169,
     "metadata": {},
     "output_type": "execute_result"
    },
    {
     "data": {
      "image/png": "[encoded data removed]",
      "text/plain": [
       "<Figure size 1200x800 with 1 Axes>"
      ]
     },
     "metadata": {},
     "output_type": "display_data"
    }
   ],
   "source": [
    "plt.figure(figsize=(12, 8))\n",
    "plt.xticks(fontsize=10, rotation=45)\n",
    "plt.yticks(fontsize=10)\n",
    "plt.xlabel('Author')\n",
    "plt.ylabel('Downloads')\n",
    "\n",
    "plt.bar(author_download_counts['Author'], author_download_counts['Total Downloads'])"
   ]
  },
  {
   "cell_type": "markdown",
   "metadata": {},
   "source": [
    "Indeed, an author from the 17th century has the most downloads in books published combined. It matches with the last analysis we did."
   ]
  },
  {
   "cell_type": "markdown",
   "metadata": {},
   "source": [
    "<hr>"
   ]
  },
  {
   "cell_type": "markdown",
   "metadata": {},
   "source": [
    "# Using pandasai LLM"
   ]
  },
  {
   "cell_type": "code",
   "execution_count": 145,
   "metadata": {},
   "outputs": [],
   "source": [
    "import os\n",
    "from dotenv import load_dotenv\n",
    "from pandasai import SmartDataframe"
   ]
  },
  {
   "cell_type": "code",
   "execution_count": 146,
   "metadata": {},
   "outputs": [
    {
     "data": {
      "text/plain": [
       "True"
      ]
     },
     "execution_count": 146,
     "metadata": {},
     "output_type": "execute_result"
    }
   ],
   "source": [
    "load_dotenv()"
   ]
  },
  {
   "cell_type": "code",
   "execution_count": 184,
   "metadata": {},
   "outputs": [],
   "source": [
    "sdf = SmartDataframe(author_download_counts)"
   ]
  },
  {
   "cell_type": "markdown",
   "metadata": {},
   "source": [
    "Make a rank based on downloads of british authors."
   ]
  },
  {
   "cell_type": "code",
   "execution_count": 175,
   "metadata": {},
   "outputs": [
    {
     "data": {
      "text/plain": [
       "'e:/projects/ipsense/exports/charts/temp_chart.png'"
      ]
     },
     "execution_count": 175,
     "metadata": {},
     "output_type": "execute_result"
    },
    {
     "data": {
      "image/png": "[encoded data removed]",
      "text/plain": [
       "<Figure size 1000x600 with 1 Axes>"
      ]
     },
     "metadata": {},
     "output_type": "display_data"
    }
   ],
   "source": [
    "sdf.chat(\"Plot a top 5 rank with only british authors by downloads\")"
   ]
  },
  {
   "cell_type": "markdown",
   "metadata": {},
   "source": [
    "Make a rank based on downloads of Russian authors."
   ]
  },
  {
   "cell_type": "code",
   "execution_count": 176,
   "metadata": {},
   "outputs": [
    {
     "data": {
      "text/plain": [
       "'e:/projects/ipsense/exports/charts/temp_chart.png'"
      ]
     },
     "execution_count": 176,
     "metadata": {},
     "output_type": "execute_result"
    },
    {
     "data": {
      "image/png": "[encoded data removed]",
      "text/plain": [
       "<Figure size 1000x600 with 1 Axes>"
      ]
     },
     "metadata": {},
     "output_type": "display_data"
    }
   ],
   "source": [
    "sdf.chat(\"Plot a top 5 rank with only Russian authors by downloads\")"
   ]
  },
  {
   "cell_type": "markdown",
   "metadata": {},
   "source": [
    "Based on author's birth years, lets find out which century has the most downloaded books, and see a graph with the top 5 centuries by downloads."
   ]
  },
  {
   "cell_type": "code",
   "execution_count": 160,
   "metadata": {},
   "outputs": [
    {
     "data": {
      "text/plain": [
       "1900.0"
      ]
     },
     "execution_count": 160,
     "metadata": {},
     "output_type": "execute_result"
    }
   ],
   "source": [
    "sdf = SmartDataframe(birth_vs_downloads)\n",
    "sdf.chat(\"Which century has the most downloaded books?\")"
   ]
  },
  {
   "cell_type": "code",
   "execution_count": 138,
   "metadata": {},
   "outputs": [
    {
     "data": {
      "text/plain": [
       "'e:/projects/ipsense/exports/charts/temp_chart.png'"
      ]
     },
     "execution_count": 138,
     "metadata": {},
     "output_type": "execute_result"
    },
    {
     "data": {
      "image/png": "[encoded data removed]",
      "text/plain": [
       "<Figure size 1000x600 with 1 Axes>"
      ]
     },
     "metadata": {},
     "output_type": "display_data"
    }
   ],
   "source": [
    "sdf.chat(\"Plot me a top 5 Centuries by downloaded books\")"
   ]
  },
  {
   "cell_type": "markdown",
   "metadata": {},
   "source": [
    "As we can see, the 19th century has the most popular books. Maybe it has to do with the 2nd industrial revolution, where books were vastly spreaded around the globe. <br>\n",
    "So the previous generations, from the 19th century, may had an influence to the newer generation, talking about these books, sharing their experiences. This might be <br>\n",
    "the reason why in the Project Gutemberg, those books have the most downloads overall."
   ]
  },
  {
   "cell_type": "markdown",
   "metadata": {},
   "source": [
    "# Final thoughts"
   ]
  },
  {
   "cell_type": "markdown",
   "metadata": {},
   "source": [
    "Due to some librarie dependencies and configuration I had a rough time setting up this LLM. Althought I've managed to extract the data I intended to, <br>\n",
    "this model does not have (or I don't know how to fine tune it) a satisfactory results. The results seems random and sometimes not reliable.\n",
    "\n",
    "But in the end I am very happy that I've managed to analyze this dataframe using the LLM."
   ]
  }
 ],
 "metadata": {
  "kernelspec": {
   "display_name": "env",
   "language": "python",
   "name": "python3"
  },
  "language_info": {
   "codemirror_mode": {
    "name": "ipython",
    "version": 3
   },
   "file_extension": ".py",
   "mimetype": "text/x-python",
   "name": "python",
   "nbconvert_exporter": "python",
   "pygments_lexer": "ipython3",
   "version": "3.12.4"
  }
 },
 "nbformat": 4,
 "nbformat_minor": 2
}
