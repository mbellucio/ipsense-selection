{
 "cells": [
  {
   "cell_type": "markdown",
   "metadata": {},
   "source": [
    "# IPSENSE internship project"
   ]
  },
  {
   "cell_type": "markdown",
   "metadata": {},
   "source": [
    "This project was made by **Matheus Bellucio**. contact me on this email: matheusbellucio@gmail.com"
   ]
  },
  {
   "cell_type": "markdown",
   "metadata": {},
   "source": [
    "<hr>\n",
    "\n",
    "### Imports"
   ]
  },
  {
   "cell_type": "code",
   "execution_count": 13,
   "metadata": {},
   "outputs": [],
   "source": [
    "import pandas as pd\n",
    "import plotly.express as plx\n",
    "\n",
    "import requests\n",
    "import json"
   ]
  },
  {
   "cell_type": "markdown",
   "metadata": {},
   "source": [
    "<hr>\n",
    "\n",
    "## Project Gutenberg Analysis\n",
    "\n",
    "Project Gutenberg is an online library of free eBooks.\n",
    "\n",
    "On this analysis we are going to look for some interesting data revolving around this free innitiative, those being:\n",
    "- Most Downloaded Books"
   ]
  },
  {
   "cell_type": "markdown",
   "metadata": {},
   "source": [
    "<hr>"
   ]
  },
  {
   "cell_type": "markdown",
   "metadata": {},
   "source": [
    "### API endpoints"
   ]
  },
  {
   "cell_type": "code",
   "execution_count": 14,
   "metadata": {},
   "outputs": [],
   "source": [
    "HEADERS = {\n",
    "  'Content-Type': 'application/json',\n",
    "  'Accept': 'application/json'\n",
    "}"
   ]
  },
  {
   "cell_type": "code",
   "execution_count": 15,
   "metadata": {},
   "outputs": [],
   "source": [
    "BOOKS = 'https://gutendex.com/books/'"
   ]
  },
  {
   "cell_type": "markdown",
   "metadata": {},
   "source": [
    "### API Calls"
   ]
  },
  {
   "cell_type": "code",
   "execution_count": 17,
   "metadata": {},
   "outputs": [],
   "source": [
    "def fetchJson(url: str, headers: dict) -> dict[str, any]:\n",
    "  try: \n",
    "    response = requests.get(url, headers=headers)\n",
    "    response.raise_for_status()\n",
    "    return response.json()\n",
    "  except requests.exceptions.RequestException as err: \n",
    "    raise err"
   ]
  },
  {
   "cell_type": "markdown",
   "metadata": {},
   "source": [
    "### Dataframe creation and Data formatting "
   ]
  },
  {
   "cell_type": "code",
   "execution_count": 25,
   "metadata": {},
   "outputs": [],
   "source": [
    "data = fetchJson(url=BOOKS, headers=HEADERS)\n",
    "df_books = pd.DataFrame(data['results'])"
   ]
  },
  {
   "cell_type": "code",
   "execution_count": 28,
   "metadata": {},
   "outputs": [
    {
     "name": "stdout",
     "output_type": "stream",
     "text": [
      "(32, 11)\n"
     ]
    },
    {
     "data": {
      "text/html": [
       "<div>\n",
       "<style scoped>\n",
       "    .dataframe tbody tr th:only-of-type {\n",
       "        vertical-align: middle;\n",
       "    }\n",
       "\n",
       "    .dataframe tbody tr th {\n",
       "        vertical-align: top;\n",
       "    }\n",
       "\n",
       "    .dataframe thead th {\n",
       "        text-align: right;\n",
       "    }\n",
       "</style>\n",
       "<table border=\"1\" class=\"dataframe\">\n",
       "  <thead>\n",
       "    <tr style=\"text-align: right;\">\n",
       "      <th></th>\n",
       "      <th>id</th>\n",
       "      <th>title</th>\n",
       "      <th>authors</th>\n",
       "      <th>translators</th>\n",
       "      <th>subjects</th>\n",
       "      <th>bookshelves</th>\n",
       "      <th>languages</th>\n",
       "      <th>copyright</th>\n",
       "      <th>media_type</th>\n",
       "      <th>formats</th>\n",
       "      <th>download_count</th>\n",
       "    </tr>\n",
       "  </thead>\n",
       "  <tbody>\n",
       "    <tr>\n",
       "      <th>0</th>\n",
       "      <td>1513</td>\n",
       "      <td>Romeo and Juliet</td>\n",
       "      <td>[{'name': 'Shakespeare, William', 'birth_year'...</td>\n",
       "      <td>[]</td>\n",
       "      <td>[Conflict of generations -- Drama, Juliet (Fic...</td>\n",
       "      <td>[Browsing: Fiction, Browsing: Literature, Brow...</td>\n",
       "      <td>[en]</td>\n",
       "      <td>False</td>\n",
       "      <td>Text</td>\n",
       "      <td>{'text/html': 'https://www.gutenberg.org/ebook...</td>\n",
       "      <td>79350</td>\n",
       "    </tr>\n",
       "    <tr>\n",
       "      <th>1</th>\n",
       "      <td>2701</td>\n",
       "      <td>Moby Dick; Or, The Whale</td>\n",
       "      <td>[{'name': 'Melville, Herman', 'birth_year': 18...</td>\n",
       "      <td>[]</td>\n",
       "      <td>[Adventure stories, Ahab, Captain (Fictitious ...</td>\n",
       "      <td>[Best Books Ever Listings, Browsing: Fiction, ...</td>\n",
       "      <td>[en]</td>\n",
       "      <td>False</td>\n",
       "      <td>Text</td>\n",
       "      <td>{'text/html': 'https://www.gutenberg.org/ebook...</td>\n",
       "      <td>72591</td>\n",
       "    </tr>\n",
       "    <tr>\n",
       "      <th>2</th>\n",
       "      <td>1342</td>\n",
       "      <td>Pride and Prejudice</td>\n",
       "      <td>[{'name': 'Austen, Jane', 'birth_year': 1775, ...</td>\n",
       "      <td>[]</td>\n",
       "      <td>[Courtship -- Fiction, Domestic fiction, Engla...</td>\n",
       "      <td>[Best Books Ever Listings, Browsing: Culture/C...</td>\n",
       "      <td>[en]</td>\n",
       "      <td>False</td>\n",
       "      <td>Text</td>\n",
       "      <td>{'text/html': 'https://www.gutenberg.org/ebook...</td>\n",
       "      <td>58898</td>\n",
       "    </tr>\n",
       "    <tr>\n",
       "      <th>3</th>\n",
       "      <td>37106</td>\n",
       "      <td>Little Women; Or, Meg, Jo, Beth, and Amy</td>\n",
       "      <td>[{'name': 'Alcott, Louisa May', 'birth_year': ...</td>\n",
       "      <td>[]</td>\n",
       "      <td>[Autobiographical fiction, Bildungsromans, Dom...</td>\n",
       "      <td>[]</td>\n",
       "      <td>[en]</td>\n",
       "      <td>False</td>\n",
       "      <td>Text</td>\n",
       "      <td>{'text/html': 'https://www.gutenberg.org/ebook...</td>\n",
       "      <td>53439</td>\n",
       "    </tr>\n",
       "    <tr>\n",
       "      <th>4</th>\n",
       "      <td>145</td>\n",
       "      <td>Middlemarch</td>\n",
       "      <td>[{'name': 'Eliot, George', 'birth_year': 1819,...</td>\n",
       "      <td>[]</td>\n",
       "      <td>[Bildungsromans, City and town life -- Fiction...</td>\n",
       "      <td>[Best Books Ever Listings, Browsing: Culture/C...</td>\n",
       "      <td>[en]</td>\n",
       "      <td>False</td>\n",
       "      <td>Text</td>\n",
       "      <td>{'text/html': 'https://www.gutenberg.org/ebook...</td>\n",
       "      <td>53226</td>\n",
       "    </tr>\n",
       "  </tbody>\n",
       "</table>\n",
       "</div>"
      ],
      "text/plain": [
       "      id                                     title  \\\n",
       "0   1513                          Romeo and Juliet   \n",
       "1   2701                  Moby Dick; Or, The Whale   \n",
       "2   1342                       Pride and Prejudice   \n",
       "3  37106  Little Women; Or, Meg, Jo, Beth, and Amy   \n",
       "4    145                               Middlemarch   \n",
       "\n",
       "                                             authors translators  \\\n",
       "0  [{'name': 'Shakespeare, William', 'birth_year'...          []   \n",
       "1  [{'name': 'Melville, Herman', 'birth_year': 18...          []   \n",
       "2  [{'name': 'Austen, Jane', 'birth_year': 1775, ...          []   \n",
       "3  [{'name': 'Alcott, Louisa May', 'birth_year': ...          []   \n",
       "4  [{'name': 'Eliot, George', 'birth_year': 1819,...          []   \n",
       "\n",
       "                                            subjects  \\\n",
       "0  [Conflict of generations -- Drama, Juliet (Fic...   \n",
       "1  [Adventure stories, Ahab, Captain (Fictitious ...   \n",
       "2  [Courtship -- Fiction, Domestic fiction, Engla...   \n",
       "3  [Autobiographical fiction, Bildungsromans, Dom...   \n",
       "4  [Bildungsromans, City and town life -- Fiction...   \n",
       "\n",
       "                                         bookshelves languages  copyright  \\\n",
       "0  [Browsing: Fiction, Browsing: Literature, Brow...      [en]      False   \n",
       "1  [Best Books Ever Listings, Browsing: Fiction, ...      [en]      False   \n",
       "2  [Best Books Ever Listings, Browsing: Culture/C...      [en]      False   \n",
       "3                                                 []      [en]      False   \n",
       "4  [Best Books Ever Listings, Browsing: Culture/C...      [en]      False   \n",
       "\n",
       "  media_type                                            formats  \\\n",
       "0       Text  {'text/html': 'https://www.gutenberg.org/ebook...   \n",
       "1       Text  {'text/html': 'https://www.gutenberg.org/ebook...   \n",
       "2       Text  {'text/html': 'https://www.gutenberg.org/ebook...   \n",
       "3       Text  {'text/html': 'https://www.gutenberg.org/ebook...   \n",
       "4       Text  {'text/html': 'https://www.gutenberg.org/ebook...   \n",
       "\n",
       "   download_count  \n",
       "0           79350  \n",
       "1           72591  \n",
       "2           58898  \n",
       "3           53439  \n",
       "4           53226  "
      ]
     },
     "execution_count": 28,
     "metadata": {},
     "output_type": "execute_result"
    }
   ],
   "source": [
    "print(df_books.shape)\n",
    "df_books.head()"
   ]
  },
  {
   "cell_type": "code",
   "execution_count": 29,
   "metadata": {},
   "outputs": [
    {
     "data": {
      "text/html": [
       "<div>\n",
       "<style scoped>\n",
       "    .dataframe tbody tr th:only-of-type {\n",
       "        vertical-align: middle;\n",
       "    }\n",
       "\n",
       "    .dataframe tbody tr th {\n",
       "        vertical-align: top;\n",
       "    }\n",
       "\n",
       "    .dataframe thead th {\n",
       "        text-align: right;\n",
       "    }\n",
       "</style>\n",
       "<table border=\"1\" class=\"dataframe\">\n",
       "  <thead>\n",
       "    <tr style=\"text-align: right;\">\n",
       "      <th></th>\n",
       "      <th>id</th>\n",
       "      <th>download_count</th>\n",
       "    </tr>\n",
       "  </thead>\n",
       "  <tbody>\n",
       "    <tr>\n",
       "      <th>count</th>\n",
       "      <td>32.000000</td>\n",
       "      <td>32.000000</td>\n",
       "    </tr>\n",
       "    <tr>\n",
       "      <th>mean</th>\n",
       "      <td>11769.531250</td>\n",
       "      <td>36626.281250</td>\n",
       "    </tr>\n",
       "    <tr>\n",
       "      <th>std</th>\n",
       "      <td>19168.061058</td>\n",
       "      <td>16737.670384</td>\n",
       "    </tr>\n",
       "    <tr>\n",
       "      <th>min</th>\n",
       "      <td>11.000000</td>\n",
       "      <td>15679.000000</td>\n",
       "    </tr>\n",
       "    <tr>\n",
       "      <th>25%</th>\n",
       "      <td>381.750000</td>\n",
       "      <td>21085.750000</td>\n",
       "    </tr>\n",
       "    <tr>\n",
       "      <th>50%</th>\n",
       "      <td>2577.000000</td>\n",
       "      <td>38886.500000</td>\n",
       "    </tr>\n",
       "    <tr>\n",
       "      <th>75%</th>\n",
       "      <td>9168.000000</td>\n",
       "      <td>46925.750000</td>\n",
       "    </tr>\n",
       "    <tr>\n",
       "      <th>max</th>\n",
       "      <td>67979.000000</td>\n",
       "      <td>79350.000000</td>\n",
       "    </tr>\n",
       "  </tbody>\n",
       "</table>\n",
       "</div>"
      ],
      "text/plain": [
       "                 id  download_count\n",
       "count     32.000000       32.000000\n",
       "mean   11769.531250    36626.281250\n",
       "std    19168.061058    16737.670384\n",
       "min       11.000000    15679.000000\n",
       "25%      381.750000    21085.750000\n",
       "50%     2577.000000    38886.500000\n",
       "75%     9168.000000    46925.750000\n",
       "max    67979.000000    79350.000000"
      ]
     },
     "execution_count": 29,
     "metadata": {},
     "output_type": "execute_result"
    }
   ],
   "source": [
    "df_books.describe()"
   ]
  },
  {
   "cell_type": "code",
   "execution_count": 30,
   "metadata": {},
   "outputs": [
    {
     "name": "stdout",
     "output_type": "stream",
     "text": [
      "<class 'pandas.core.frame.DataFrame'>\n",
      "RangeIndex: 32 entries, 0 to 31\n",
      "Data columns (total 11 columns):\n",
      " #   Column          Non-Null Count  Dtype \n",
      "---  ------          --------------  ----- \n",
      " 0   id              32 non-null     int64 \n",
      " 1   title           32 non-null     object\n",
      " 2   authors         32 non-null     object\n",
      " 3   translators     32 non-null     object\n",
      " 4   subjects        32 non-null     object\n",
      " 5   bookshelves     32 non-null     object\n",
      " 6   languages       32 non-null     object\n",
      " 7   copyright       32 non-null     bool  \n",
      " 8   media_type      32 non-null     object\n",
      " 9   formats         32 non-null     object\n",
      " 10  download_count  32 non-null     int64 \n",
      "dtypes: bool(1), int64(2), object(8)\n",
      "memory usage: 2.7+ KB\n"
     ]
    }
   ],
   "source": [
    "df_books.info()"
   ]
  }
 ],
 "metadata": {
  "kernelspec": {
   "display_name": "env",
   "language": "python",
   "name": "python3"
  },
  "language_info": {
   "codemirror_mode": {
    "name": "ipython",
    "version": 3
   },
   "file_extension": ".py",
   "mimetype": "text/x-python",
   "name": "python",
   "nbconvert_exporter": "python",
   "pygments_lexer": "ipython3",
   "version": "3.12.4"
  }
 },
 "nbformat": 4,
 "nbformat_minor": 2
}
